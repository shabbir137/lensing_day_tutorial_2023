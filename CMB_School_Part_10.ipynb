{
 "cells": [
  {
   "cell_type": "markdown",
   "metadata": {},
   "source": [
    "# Lensing simulation tutorial"
   ]
  },
  {
   "cell_type": "markdown",
   "metadata": {},
   "source": [
    "Here we will simulate *CMB lensing*, the process by which the *paths of CMB photons are deflected by large-scale structure as they traverse the Universe.*\n",
    "\n",
    "\n",
    "The unlensed CMB temperature $\\tilde T(\\mathbf n)$ at angular position $\\mathbf n$ is a Gaussian field, which we have seen how to simulate.\n",
    "\n",
    "The action of lensing is that we see the CMB evaluated at a *deflected position* $$T^\\mathrm{len}(\\mathbf n) = \\tilde T(\\mathbf n + \\mathbf d(\\mathbf n)).$$\n",
    "\n",
    "The deflection is (to good approximation) given as the *gradient of a scalar,* $$\\mathbf d(\\mathbf n)= \\nabla \\phi(\\mathbf n),$$ where $\\phi$ is known as the **CMB lensing potential**.  This two-dimensional field is the line-of-sight projection of the 3d gravitational potential from all the strctures in the Universe between us and the CMB.\n",
    "\n",
    "$\\phi$ is (to good approximation) a Gaussian field, and its power spectrum $C_\\ell^{\\phi\\phi}$ is computed by codes like CAMB.  Let's load up the CMB temperature and potential power spectra, and make a simulation of them both."
   ]
  },
  {
   "cell_type": "code",
   "execution_count": null,
   "metadata": {},
   "outputs": [],
   "source": [
    "import numpy as np\n",
    "import matplotlib.pyplot as plt\n",
    "from cmb_modules import make_map, Plot_Map\n",
    "from lens_modules import kmask, kappa_to_phi, get_ells, sky2pix, pix2sky, posmap, gradient\n",
    "np.random.seed(100)"
   ]
  },
  {
   "cell_type": "markdown",
   "metadata": {},
   "source": [
    "### Simulating an unlensed map\n",
    "\n"
   ]
  },
  {
   "cell_type": "code",
   "execution_count": null,
   "metadata": {},
   "outputs": [],
   "source": [
    "\n",
    "patch_deg_width = 40. # patch width in degrees\n",
    "pix_size = 1.5 # pixel size in arcminutes\n",
    "\n",
    "# Number of pixels in each direction\n",
    "N = int(patch_deg_width*60./pix_size)\n",
    "\n",
    "# We need to load the theory spectra\n",
    "def get_theory():\n",
    "    ells,tt,_,_,pp,_ = np.loadtxt(\"CAMB_fiducial_cosmo_scalCls.dat\",unpack=True)\n",
    "    TCMB2 = 7.4311e12\n",
    "    ckk = pp/4./TCMB2\n",
    "    ucltt = tt / ells/(ells+1.)*2.*np.pi\n",
    "    ells2,lcltt = np.loadtxt(\"CMB_fiducial_totalCls.dat\",unpack=True,usecols=[0,1])\n",
    "    lcltt = lcltt / ells2/(ells2+1.)*2.*np.pi\n",
    "    lcltt = lcltt[:len(ells)]\n",
    "    return ells,ucltt,lcltt,ckk\n",
    "\n",
    "\n",
    "ells,ucltt,lcltt,clkk = get_theory()\n"
   ]
  },
  {
   "cell_type": "code",
   "execution_count": null,
   "metadata": {},
   "outputs": [],
   "source": [
    "\n",
    "# We next generate an unlensed CMB map as a Gaussian random field as we learned before\n",
    "DlTT = ucltt*ells*(ells+1.)/2./np.pi\n",
    "unlensed = make_map(N,pix_size,ells,DlTT)\n",
    "\n",
    "## variables to set up the map plots\n",
    "c_min = -400  # minimum for color bar\n",
    "c_max = 400   # maximum for color bar\n",
    "X_width = N*pix_size/60.  # horizontal map width in degrees\n",
    "Y_width = N*pix_size/60.  # vertical map width in degrees\n",
    "\n",
    "\n",
    "print('Unlensed CMB')\n",
    "Plot_Map(Map_to_Plot=unlensed,\n",
    "        c_min=c_min,\n",
    "        c_max=c_max,\n",
    "        X_width=X_width,\n",
    "        Y_width=Y_width)\n"
   ]
  },
  {
   "cell_type": "markdown",
   "metadata": {},
   "source": [
    "Sometimes we work with the **CMB lensing convergence** $\\kappa(\\mathbf n)$, a projection of the matter density.  The potential and convergence are related by a Poisson equation, $$\\kappa(\\mathbf n) = -\\nabla^2 \\phi(\\mathbf n)/2,$$ or in Fourier space, $$\\kappa(\\mathbf l) = l^2 \\phi(\\mathbf l) / 2$$\n",
    "\n",
    "Let's make a simulation of $\\kappa(\\mathbf n)$ -- a projection of the (dark) matter between us and the CMB:"
   ]
  },
  {
   "cell_type": "code",
   "execution_count": null,
   "metadata": {
    "tags": []
   },
   "outputs": [],
   "source": [
    "# We also need a lensing convergence (kappa) map\n",
    "DlKK = clkk*ells*(ells+1.)/2./np.pi\n",
    "kappa = make_map(N,pix_size,ells,DlKK)\n",
    "Plot_Map(Map_to_Plot=kappa,\n",
    "        c_min=None,\n",
    "        c_max=None,\n",
    "        X_width=X_width,\n",
    "        Y_width=Y_width)"
   ]
  },
  {
   "cell_type": "markdown",
   "metadata": {},
   "source": [
    "To simulate the **deflection** action of lensing, we will obtain our $\\phi$ map from this $\\kappa$ map; evaluate $\\nabla \\phi$; and determine the shifted positions for the CMB, $\\mathbf n + \\nabla \\phi(\\mathbf n).$  We will do the actual position interpolation using the `scipy.ndimage.map_coordinates`."
   ]
  },
  {
   "cell_type": "code",
   "execution_count": null,
   "metadata": {},
   "outputs": [],
   "source": [
    "def lens_map(input_map,kappa,modlmap,ly,lx,N,pix_size):\n",
    "    # First we convert lensing convergence to lensing potential\n",
    "    phi = kappa_to_phi(kappa,modlmap,return_fphi=True)\n",
    "\n",
    "    # Then we take its gradient to get the deflection field\n",
    "    grad_phi = gradient(phi,ly,lx)\n",
    "\n",
    "    # Then we calculate the displaced positions by shifting the physical positions by the deflections\n",
    "    deflected_pos = posmap(N,pix_size) + grad_phi\n",
    "\n",
    "    # We convert the displaced positions into fractional displaced pixel numbers\n",
    "    # because scipy doesn't know about physical distances\n",
    "    deflected_pix = sky2pix(deflected_pos,N,pix_size)\n",
    "\n",
    "    # We prepare an empty output lensed map array\n",
    "    output_map = np.empty(input_map.shape, dtype=input_map.dtype)\n",
    "\n",
    "    # We then tell scipy to calculate the values of the input lensed map\n",
    "    # at the displaced fractional positions by interpolation, and grid that onto the final lensed map\n",
    "    from scipy.ndimage import map_coordinates\n",
    "    map_coordinates(input_map, deflected_pix, output_map, order=5, mode='wrap')\n",
    "\n",
    "    return output_map\n"
   ]
  },
  {
   "cell_type": "code",
   "execution_count": null,
   "metadata": {},
   "outputs": [],
   "source": [
    "\n",
    "# We get the Fourier coordinates\n",
    "ly,lx,modlmap = get_ells(N,pix_size)"
   ]
  },
  {
   "cell_type": "code",
   "execution_count": null,
   "metadata": {},
   "outputs": [],
   "source": [
    "\n",
    "# Now we can lens our input unlensed map\n",
    "lensed = lens_map(input_map=unlensed,\n",
    "                kappa=kappa,\n",
    "                modlmap=modlmap,\n",
    "                ly=ly,\n",
    "                lx=lx,\n",
    "                N=N,\n",
    "                pix_size=pix_size)"
   ]
  },
  {
   "cell_type": "code",
   "execution_count": null,
   "metadata": {},
   "outputs": [],
   "source": [
    "\n",
    "print('Lensed CMB')\n",
    "Plot_Map(Map_to_Plot=lensed,\n",
    "        c_min=None,\n",
    "        c_max=None,\n",
    "        X_width=X_width,\n",
    "        Y_width=Y_width)\n"
   ]
  },
  {
   "cell_type": "code",
   "execution_count": null,
   "metadata": {},
   "outputs": [],
   "source": [
    "print('Lensed minus unlensed CMB')\n",
    "Plot_Map(Map_to_Plot=lensed - unlensed,\n",
    "        c_min=c_min/5,\n",
    "        c_max=c_max/5,\n",
    "        X_width=X_width,\n",
    "        Y_width=Y_width) #increase image contrast by a factor of 5"
   ]
  },
  {
   "cell_type": "markdown",
   "metadata": {},
   "source": [
    "<font color='red'>EXCERCISE: </font> Compare the power spectrum of the lensed CMB map with the unlensed CMB map."
   ]
  },
  {
   "cell_type": "code",
   "execution_count": null,
   "metadata": {},
   "outputs": [],
   "source": [
    "\n",
    "def calculate_2d_spectrum(Map1,Map2,delta_ell,ell_max,pix_size,N):\n",
    "    \"calculates the power spectrum of a 2d map by FFTing, squaring, and azimuthally averaging\"\n",
    "    N=int(N)\n",
    "    # make a 2d ell coordinate system\n",
    "    ones = np.ones(N)\n",
    "    inds  = (np.arange(N)+.5 - N/2.) /(N-1.)\n",
    "    kX = np.outer(ones,inds) / (pix_size/60. * np.pi/180.)\n",
    "    kY = np.transpose(kX)\n",
    "    K = np.sqrt(kX**2. + kY**2.)\n",
    "    ell_scale_factor = 2. * np.pi \n",
    "    ell2d = K * ell_scale_factor\n",
    "    \n",
    "    # make an array to hold the power spectrum results\n",
    "    N_bins = int(ell_max/delta_ell)\n",
    "    ell_array = np.arange(N_bins)\n",
    "    CL_array = np.zeros(N_bins)\n",
    "    \n",
    "    # get the 2d fourier transform of the map\n",
    "    FMap1 = np.fft.ifft2(np.fft.fftshift(Map1))\n",
    "    FMap2 = np.fft.ifft2(np.fft.fftshift(Map2))\n",
    "    PSMap = np.fft.fftshift(np.real(np.conj(FMap1) * FMap2))\n",
    "    # fill out the spectra\n",
    "    i = 0\n",
    "    while (i < N_bins):\n",
    "        ell_array[i] = (i + 0.5) * delta_ell\n",
    "        inds_in_bin = ((ell2d >= (i* delta_ell)) * (ell2d < ((i+1)* delta_ell))).nonzero()\n",
    "        CL_array[i] = np.mean(PSMap[inds_in_bin])\n",
    "        #print i, ell_array[i], inds_in_bin, CL_array[i]\n",
    "        i = i + 1\n",
    " \n",
    "    # return the power spectrum and ell bins\n",
    "    return(ell_array,CL_array*np.sqrt(pix_size /60.* np.pi/180.)*2.)"
   ]
  },
  {
   "cell_type": "code",
   "execution_count": null,
   "metadata": {},
   "outputs": [],
   "source": [
    "# Calculate two auto power spectra using the above function: one for the unlensed map, one for the lensed map\n",
    "# note that the function above takes two maps, but for an auto power spectrum those two maps will be the same\n",
    "\n",
    "# choose your bin size (delta_ell) and your ell_max (how small of scales you would like to go to, highest possible is 5000 here)\n",
    "\n",
    "###### Layout: #####\n",
    "\n",
    "# delta_ell = # choose delta_ell (I suggest between 10-50, but play around with it!)\n",
    "# ell_max = # choose ell_max < 5000\n",
    "\n",
    "# ells,unlensed_cl = \n",
    "# __,lensed_cl = \n",
    "\n",
    "############## YOUR CODE BELOW ############################################\n"
   ]
  },
  {
   "cell_type": "code",
   "execution_count": null,
   "metadata": {},
   "outputs": [],
   "source": [
    "# Plot them using matplotlib, maybe in multiple ways, to compare.\n",
    "\n",
    "############## YOUR CODE HERE ############################################"
   ]
  },
  {
   "cell_type": "markdown",
   "metadata": {},
   "source": []
  }
 ],
 "metadata": {
  "kernelspec": {
   "display_name": "Python 3",
   "language": "python",
   "name": "python3"
  },
  "language_info": {
   "codemirror_mode": {
    "name": "ipython",
    "version": 3
   },
   "file_extension": ".py",
   "mimetype": "text/x-python",
   "name": "python",
   "nbconvert_exporter": "python",
   "pygments_lexer": "ipython3",
   "version": "3.9.2"
  }
 },
 "nbformat": 4,
 "nbformat_minor": 4
}
